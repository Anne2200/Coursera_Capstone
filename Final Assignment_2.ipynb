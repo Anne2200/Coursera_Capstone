{
 "cells": [
  {
   "cell_type": "markdown",
   "metadata": {},
   "source": [
    "# Final Assignment"
   ]
  },
  {
   "cell_type": "markdown",
   "metadata": {},
   "source": [
    "## The goal"
   ]
  },
  {
   "cell_type": "markdown",
   "metadata": {},
   "source": [
    "The problem that I will be solving during this capstone project is regarding a trip to the United States. I hypothetically have saved a lot of money, such that I can go there, but my goal is very specific. My first name is “Anne”, so the goal of my trip is to visit all cities with the name Anne in their name. To make it even more specific, I really want to let my family know that I have visited those places, so that is why I am looking for the post office in each of these cities. This is the point where data science will come in, since my goal is to make a list of all cities that include the name Anne and to find the post officies within these cities. Because based on this, I can plan my trip to the United States.\n",
    "\tOne last note, I will make this algorithm in a very general way, such that people with similar interests can use it to plan their trips too. For example, when people want to visit all restaurants in cities that include an ‘X’. That is why I will first define the string that need to be in the city's name and the venue that I would like to find:\n"
   ]
  },
  {
   "cell_type": "code",
   "execution_count": 184,
   "metadata": {},
   "outputs": [],
   "source": [
    "StringToBeFound = \"Anne\"\n",
    "String_Venue = \"Post Office\""
   ]
  },
  {
   "cell_type": "markdown",
   "metadata": {},
   "source": [
    "## The Code"
   ]
  },
  {
   "cell_type": "markdown",
   "metadata": {},
   "source": [
    "### Importing Packages"
   ]
  },
  {
   "cell_type": "markdown",
   "metadata": {},
   "source": [
    "First, all necessary packages will be imported"
   ]
  },
  {
   "cell_type": "code",
   "execution_count": 185,
   "metadata": {},
   "outputs": [],
   "source": [
    "import pandas as pd\n",
    "import requests\n",
    "import folium\n",
    "from geopy.geocoders import Nominatim \n",
    "from pandas.io.json import json_normalize"
   ]
  },
  {
   "cell_type": "markdown",
   "metadata": {},
   "source": [
    "### Importing Data"
   ]
  },
  {
   "cell_type": "markdown",
   "metadata": {},
   "source": [
    "Now, the data will be imported. The main data source that will be used is from the website OpenDataSoft (https://public.opendatasoft.com/explore/dataset/us-zip-code-latitude-and-longitude/table/) and this data source includes 43.191 cities in the United States with their respective zip codes and longitude and latitude values. I will use this dataset by finding all rows with “Anne” and their respective longitude and latitude values. These will be used in FourSquare to find the postal offices nearby these cities."
   ]
  },
  {
   "cell_type": "code",
   "execution_count": 186,
   "metadata": {},
   "outputs": [
    {
     "data": {
      "text/html": [
       "<div>\n",
       "<style scoped>\n",
       "    .dataframe tbody tr th:only-of-type {\n",
       "        vertical-align: middle;\n",
       "    }\n",
       "\n",
       "    .dataframe tbody tr th {\n",
       "        vertical-align: top;\n",
       "    }\n",
       "\n",
       "    .dataframe thead th {\n",
       "        text-align: right;\n",
       "    }\n",
       "</style>\n",
       "<table border=\"1\" class=\"dataframe\">\n",
       "  <thead>\n",
       "    <tr style=\"text-align: right;\">\n",
       "      <th></th>\n",
       "      <th>Zip</th>\n",
       "      <th>City</th>\n",
       "      <th>State</th>\n",
       "      <th>Latitude</th>\n",
       "      <th>Longitude</th>\n",
       "      <th>Timezone</th>\n",
       "      <th>Daylight savings time flag</th>\n",
       "      <th>geopoint</th>\n",
       "    </tr>\n",
       "  </thead>\n",
       "  <tbody>\n",
       "    <tr>\n",
       "      <th>0</th>\n",
       "      <td>55795</td>\n",
       "      <td>Willow River</td>\n",
       "      <td>MN</td>\n",
       "      <td>46317812.0</td>\n",
       "      <td>-9284315.0</td>\n",
       "      <td>-6</td>\n",
       "      <td>1</td>\n",
       "      <td>46.317812,-92.84315</td>\n",
       "    </tr>\n",
       "    <tr>\n",
       "      <th>1</th>\n",
       "      <td>45388</td>\n",
       "      <td>Yorkshire</td>\n",
       "      <td>OH</td>\n",
       "      <td>40328535.0</td>\n",
       "      <td>-8447938.0</td>\n",
       "      <td>-5</td>\n",
       "      <td>1</td>\n",
       "      <td>40.328535,-84.47938</td>\n",
       "    </tr>\n",
       "    <tr>\n",
       "      <th>2</th>\n",
       "      <td>39483</td>\n",
       "      <td>Foxworth</td>\n",
       "      <td>MS</td>\n",
       "      <td>31218509.0</td>\n",
       "      <td>-8990761.0</td>\n",
       "      <td>-6</td>\n",
       "      <td>1</td>\n",
       "      <td>31.218509,-89.90761</td>\n",
       "    </tr>\n",
       "    <tr>\n",
       "      <th>3</th>\n",
       "      <td>31503</td>\n",
       "      <td>Waycross</td>\n",
       "      <td>GA</td>\n",
       "      <td>31205194.0</td>\n",
       "      <td>-8237534.0</td>\n",
       "      <td>-5</td>\n",
       "      <td>1</td>\n",
       "      <td>31.205194,-82.37534</td>\n",
       "    </tr>\n",
       "    <tr>\n",
       "      <th>4</th>\n",
       "      <td>45833</td>\n",
       "      <td>Delphos</td>\n",
       "      <td>OH</td>\n",
       "      <td>40841409.0</td>\n",
       "      <td>-8434178.0</td>\n",
       "      <td>-5</td>\n",
       "      <td>1</td>\n",
       "      <td>40.841409,-84.34178</td>\n",
       "    </tr>\n",
       "    <tr>\n",
       "      <th>...</th>\n",
       "      <td>...</td>\n",
       "      <td>...</td>\n",
       "      <td>...</td>\n",
       "      <td>...</td>\n",
       "      <td>...</td>\n",
       "      <td>...</td>\n",
       "      <td>...</td>\n",
       "      <td>...</td>\n",
       "    </tr>\n",
       "    <tr>\n",
       "      <th>43186</th>\n",
       "      <td>25612</td>\n",
       "      <td>Chauncey</td>\n",
       "      <td>WV</td>\n",
       "      <td>3776662.0</td>\n",
       "      <td>-8198755.0</td>\n",
       "      <td>-5</td>\n",
       "      <td>1</td>\n",
       "      <td>37.76662,-81.98755</td>\n",
       "    </tr>\n",
       "    <tr>\n",
       "      <th>43187</th>\n",
       "      <td>59444</td>\n",
       "      <td>Galata</td>\n",
       "      <td>MT</td>\n",
       "      <td>48635319.0</td>\n",
       "      <td>-11124083.0</td>\n",
       "      <td>-7</td>\n",
       "      <td>1</td>\n",
       "      <td>48.635319,-111.24083</td>\n",
       "    </tr>\n",
       "    <tr>\n",
       "      <th>43188</th>\n",
       "      <td>60532</td>\n",
       "      <td>Lisle</td>\n",
       "      <td>IL</td>\n",
       "      <td>41789079.0</td>\n",
       "      <td>-8808536.0</td>\n",
       "      <td>-6</td>\n",
       "      <td>1</td>\n",
       "      <td>41.789079,-88.08536</td>\n",
       "    </tr>\n",
       "    <tr>\n",
       "      <th>43189</th>\n",
       "      <td>61638</td>\n",
       "      <td>Peoria</td>\n",
       "      <td>IL</td>\n",
       "      <td>40796887.0</td>\n",
       "      <td>-89611146.0</td>\n",
       "      <td>-6</td>\n",
       "      <td>1</td>\n",
       "      <td>40.796887,-89.611146</td>\n",
       "    </tr>\n",
       "    <tr>\n",
       "      <th>43190</th>\n",
       "      <td>85326</td>\n",
       "      <td>Buckeye</td>\n",
       "      <td>AZ</td>\n",
       "      <td>33354418.0</td>\n",
       "      <td>-11256941.0</td>\n",
       "      <td>-7</td>\n",
       "      <td>0</td>\n",
       "      <td>33.354418,-112.56941</td>\n",
       "    </tr>\n",
       "  </tbody>\n",
       "</table>\n",
       "<p>43191 rows × 8 columns</p>\n",
       "</div>"
      ],
      "text/plain": [
       "         Zip          City State    Latitude   Longitude  Timezone  \\\n",
       "0      55795  Willow River    MN  46317812.0  -9284315.0        -6   \n",
       "1      45388     Yorkshire    OH  40328535.0  -8447938.0        -5   \n",
       "2      39483      Foxworth    MS  31218509.0  -8990761.0        -6   \n",
       "3      31503      Waycross    GA  31205194.0  -8237534.0        -5   \n",
       "4      45833       Delphos    OH  40841409.0  -8434178.0        -5   \n",
       "...      ...           ...   ...         ...         ...       ...   \n",
       "43186  25612      Chauncey    WV   3776662.0  -8198755.0        -5   \n",
       "43187  59444        Galata    MT  48635319.0 -11124083.0        -7   \n",
       "43188  60532         Lisle    IL  41789079.0  -8808536.0        -6   \n",
       "43189  61638        Peoria    IL  40796887.0 -89611146.0        -6   \n",
       "43190  85326       Buckeye    AZ  33354418.0 -11256941.0        -7   \n",
       "\n",
       "       Daylight savings time flag              geopoint  \n",
       "0                               1   46.317812,-92.84315  \n",
       "1                               1   40.328535,-84.47938  \n",
       "2                               1   31.218509,-89.90761  \n",
       "3                               1   31.205194,-82.37534  \n",
       "4                               1   40.841409,-84.34178  \n",
       "...                           ...                   ...  \n",
       "43186                           1    37.76662,-81.98755  \n",
       "43187                           1  48.635319,-111.24083  \n",
       "43188                           1   41.789079,-88.08536  \n",
       "43189                           1  40.796887,-89.611146  \n",
       "43190                           0  33.354418,-112.56941  \n",
       "\n",
       "[43191 rows x 8 columns]"
      ]
     },
     "execution_count": 186,
     "metadata": {},
     "output_type": "execute_result"
    }
   ],
   "source": [
    "path = \"us-zip-code-latitude-and-longitude.xlsx\"\n",
    "DF = pd.DataFrame(columns=[\"Zipcode\",\"City\",\"State\",\"Latitude\",\"Longitude\",\"Timezone\",\"Daylight Savings\",\"Geopoint\"])\n",
    "DF = pd.read_excel(path)\n",
    "DF"
   ]
  },
  {
   "cell_type": "markdown",
   "metadata": {},
   "source": [
    "Once the data is imported, the columns that are not of use for this particular case will be deleted from the dataframe."
   ]
  },
  {
   "cell_type": "code",
   "execution_count": 187,
   "metadata": {},
   "outputs": [
    {
     "data": {
      "text/html": [
       "<div>\n",
       "<style scoped>\n",
       "    .dataframe tbody tr th:only-of-type {\n",
       "        vertical-align: middle;\n",
       "    }\n",
       "\n",
       "    .dataframe tbody tr th {\n",
       "        vertical-align: top;\n",
       "    }\n",
       "\n",
       "    .dataframe thead th {\n",
       "        text-align: right;\n",
       "    }\n",
       "</style>\n",
       "<table border=\"1\" class=\"dataframe\">\n",
       "  <thead>\n",
       "    <tr style=\"text-align: right;\">\n",
       "      <th></th>\n",
       "      <th>City</th>\n",
       "      <th>State</th>\n",
       "      <th>Latitude</th>\n",
       "      <th>Longitude</th>\n",
       "      <th>geopoint</th>\n",
       "    </tr>\n",
       "  </thead>\n",
       "  <tbody>\n",
       "    <tr>\n",
       "      <th>0</th>\n",
       "      <td>Willow River</td>\n",
       "      <td>MN</td>\n",
       "      <td>46317812.0</td>\n",
       "      <td>-9284315.0</td>\n",
       "      <td>46.317812,-92.84315</td>\n",
       "    </tr>\n",
       "    <tr>\n",
       "      <th>1</th>\n",
       "      <td>Yorkshire</td>\n",
       "      <td>OH</td>\n",
       "      <td>40328535.0</td>\n",
       "      <td>-8447938.0</td>\n",
       "      <td>40.328535,-84.47938</td>\n",
       "    </tr>\n",
       "    <tr>\n",
       "      <th>2</th>\n",
       "      <td>Foxworth</td>\n",
       "      <td>MS</td>\n",
       "      <td>31218509.0</td>\n",
       "      <td>-8990761.0</td>\n",
       "      <td>31.218509,-89.90761</td>\n",
       "    </tr>\n",
       "    <tr>\n",
       "      <th>3</th>\n",
       "      <td>Waycross</td>\n",
       "      <td>GA</td>\n",
       "      <td>31205194.0</td>\n",
       "      <td>-8237534.0</td>\n",
       "      <td>31.205194,-82.37534</td>\n",
       "    </tr>\n",
       "    <tr>\n",
       "      <th>4</th>\n",
       "      <td>Delphos</td>\n",
       "      <td>OH</td>\n",
       "      <td>40841409.0</td>\n",
       "      <td>-8434178.0</td>\n",
       "      <td>40.841409,-84.34178</td>\n",
       "    </tr>\n",
       "    <tr>\n",
       "      <th>...</th>\n",
       "      <td>...</td>\n",
       "      <td>...</td>\n",
       "      <td>...</td>\n",
       "      <td>...</td>\n",
       "      <td>...</td>\n",
       "    </tr>\n",
       "    <tr>\n",
       "      <th>43186</th>\n",
       "      <td>Chauncey</td>\n",
       "      <td>WV</td>\n",
       "      <td>3776662.0</td>\n",
       "      <td>-8198755.0</td>\n",
       "      <td>37.76662,-81.98755</td>\n",
       "    </tr>\n",
       "    <tr>\n",
       "      <th>43187</th>\n",
       "      <td>Galata</td>\n",
       "      <td>MT</td>\n",
       "      <td>48635319.0</td>\n",
       "      <td>-11124083.0</td>\n",
       "      <td>48.635319,-111.24083</td>\n",
       "    </tr>\n",
       "    <tr>\n",
       "      <th>43188</th>\n",
       "      <td>Lisle</td>\n",
       "      <td>IL</td>\n",
       "      <td>41789079.0</td>\n",
       "      <td>-8808536.0</td>\n",
       "      <td>41.789079,-88.08536</td>\n",
       "    </tr>\n",
       "    <tr>\n",
       "      <th>43189</th>\n",
       "      <td>Peoria</td>\n",
       "      <td>IL</td>\n",
       "      <td>40796887.0</td>\n",
       "      <td>-89611146.0</td>\n",
       "      <td>40.796887,-89.611146</td>\n",
       "    </tr>\n",
       "    <tr>\n",
       "      <th>43190</th>\n",
       "      <td>Buckeye</td>\n",
       "      <td>AZ</td>\n",
       "      <td>33354418.0</td>\n",
       "      <td>-11256941.0</td>\n",
       "      <td>33.354418,-112.56941</td>\n",
       "    </tr>\n",
       "  </tbody>\n",
       "</table>\n",
       "<p>43191 rows × 5 columns</p>\n",
       "</div>"
      ],
      "text/plain": [
       "               City State    Latitude   Longitude              geopoint\n",
       "0      Willow River    MN  46317812.0  -9284315.0   46.317812,-92.84315\n",
       "1         Yorkshire    OH  40328535.0  -8447938.0   40.328535,-84.47938\n",
       "2          Foxworth    MS  31218509.0  -8990761.0   31.218509,-89.90761\n",
       "3          Waycross    GA  31205194.0  -8237534.0   31.205194,-82.37534\n",
       "4           Delphos    OH  40841409.0  -8434178.0   40.841409,-84.34178\n",
       "...             ...   ...         ...         ...                   ...\n",
       "43186      Chauncey    WV   3776662.0  -8198755.0    37.76662,-81.98755\n",
       "43187        Galata    MT  48635319.0 -11124083.0  48.635319,-111.24083\n",
       "43188         Lisle    IL  41789079.0  -8808536.0   41.789079,-88.08536\n",
       "43189        Peoria    IL  40796887.0 -89611146.0  40.796887,-89.611146\n",
       "43190       Buckeye    AZ  33354418.0 -11256941.0  33.354418,-112.56941\n",
       "\n",
       "[43191 rows x 5 columns]"
      ]
     },
     "execution_count": 187,
     "metadata": {},
     "output_type": "execute_result"
    }
   ],
   "source": [
    "DF.drop(columns=[\"Zip\",\"Daylight savings time flag\",\"Timezone\"], axis=1)"
   ]
  },
  {
   "cell_type": "markdown",
   "metadata": {},
   "source": [
    "Now, we have our data on all the cities in the United States. This dataframe will be used throughout this project."
   ]
  },
  {
   "cell_type": "markdown",
   "metadata": {},
   "source": [
    "### Finding all cities with \"Anne\""
   ]
  },
  {
   "cell_type": "markdown",
   "metadata": {},
   "source": [
    "The next step is to find all the cities with \"Anne\" in their name. To achieve this, first, a new dataframe will be created (DF_Anne)"
   ]
  },
  {
   "cell_type": "code",
   "execution_count": 188,
   "metadata": {},
   "outputs": [],
   "source": [
    "# Make a new dataframe to which we can add the cities with \"Anne\"\n",
    "DF_Anne = pd.DataFrame(columns=[\"City\",\"State\",\"Latitude\",\"Longitude\"])"
   ]
  },
  {
   "cell_type": "markdown",
   "metadata": {},
   "source": [
    "Now, this dataframe will be filled with all the cities that include \"Anne\". This is done through looping over each row and appending rows to the new dataframe DF_Anne in cases where \"Anne\" is found in the city's name. To make it more general, you can also change the string to be found to another name and try it for that one (as is showed at the top)."
   ]
  },
  {
   "cell_type": "code",
   "execution_count": 189,
   "metadata": {},
   "outputs": [
    {
     "data": {
      "text/html": [
       "<div>\n",
       "<style scoped>\n",
       "    .dataframe tbody tr th:only-of-type {\n",
       "        vertical-align: middle;\n",
       "    }\n",
       "\n",
       "    .dataframe tbody tr th {\n",
       "        vertical-align: top;\n",
       "    }\n",
       "\n",
       "    .dataframe thead th {\n",
       "        text-align: right;\n",
       "    }\n",
       "</style>\n",
       "<table border=\"1\" class=\"dataframe\">\n",
       "  <thead>\n",
       "    <tr style=\"text-align: right;\">\n",
       "      <th></th>\n",
       "      <th>City</th>\n",
       "      <th>State</th>\n",
       "      <th>Latitude</th>\n",
       "      <th>Longitude</th>\n",
       "    </tr>\n",
       "  </thead>\n",
       "  <tbody>\n",
       "    <tr>\n",
       "      <th>0</th>\n",
       "      <td>Princess Anne</td>\n",
       "      <td>MD</td>\n",
       "      <td>38205272.0</td>\n",
       "      <td>-7570169.0</td>\n",
       "    </tr>\n",
       "    <tr>\n",
       "      <th>1</th>\n",
       "      <td>Saint Anne</td>\n",
       "      <td>IL</td>\n",
       "      <td>41045785.0</td>\n",
       "      <td>-8768963.0</td>\n",
       "    </tr>\n",
       "    <tr>\n",
       "      <th>2</th>\n",
       "      <td>Queen Anne</td>\n",
       "      <td>MD</td>\n",
       "      <td>38945143.0</td>\n",
       "      <td>-7596915.0</td>\n",
       "    </tr>\n",
       "    <tr>\n",
       "      <th>3</th>\n",
       "      <td>Annemanie</td>\n",
       "      <td>AL</td>\n",
       "      <td>32048079.0</td>\n",
       "      <td>-8726226.0</td>\n",
       "    </tr>\n",
       "  </tbody>\n",
       "</table>\n",
       "</div>"
      ],
      "text/plain": [
       "            City State    Latitude  Longitude\n",
       "0  Princess Anne    MD  38205272.0 -7570169.0\n",
       "1     Saint Anne    IL  41045785.0 -8768963.0\n",
       "2     Queen Anne    MD  38945143.0 -7596915.0\n",
       "3      Annemanie    AL  32048079.0 -8726226.0"
      ]
     },
     "execution_count": 189,
     "metadata": {},
     "output_type": "execute_result"
    }
   ],
   "source": [
    "TotalRows = DF.shape[0]\n",
    "\n",
    "for i in range(0,TotalRows):\n",
    "    CityName = DF[\"City\"][i]\n",
    "    if (CityName.find(StringToBeFound) != -1):\n",
    "        #print(CityName)\n",
    "        df = DF.iloc[i,1:5]\n",
    "        Series_Object = pd.Series(DF.iloc[i,1:5],index=DF.columns)\n",
    "        DF_Anne = DF_Anne.append(Series_Object,ignore_index=True)\n",
    "        #DF_Anne.append(row)\n",
    "DF_Anne.drop(columns=[\"Daylight savings time flag\",\"Timezone\",\"Zip\",\"geopoint\"], axis=1)"
   ]
  },
  {
   "cell_type": "markdown",
   "metadata": {},
   "source": [
    "This table above includes all cities with the name Anne, based on the use of the longitude and latitude we can get the venues at these cities."
   ]
  },
  {
   "cell_type": "markdown",
   "metadata": {},
   "source": [
    "### Use FourSquare to find Venues"
   ]
  },
  {
   "cell_type": "markdown",
   "metadata": {},
   "source": [
    "First, I will define my credentials"
   ]
  },
  {
   "cell_type": "code",
   "execution_count": 190,
   "metadata": {},
   "outputs": [],
   "source": [
    "CLIENT_ID = 'LSKLK1UK3CZZXETMMH10LH4PFCMMK2CDNLXLT5WLI22YKMQ2' # your Foursquare ID\n",
    "CLIENT_SECRET = 'FB4BBCYIN4YQCU0NCM2DH1UZBZ201W00CRSIQUMAA1HBEISA' # your Foursquare Secret\n",
    "#code you get J0M10DG5GJV2CLLK24XRKKDCETBTHFL2BJX5MH5HJW4PJZRY\n",
    "ACCESS_TOKEN = 'ICIKRIPRTRSWCKSME0J52KMJAAWS12MHUS2SSA3DPUFDUBW1' # your FourSquare Access Token\n",
    "VERSION = '20180605' # Foursquare API version\n",
    "LIMIT = 100 # A default Foursquare API limit value"
   ]
  },
  {
   "cell_type": "markdown",
   "metadata": {},
   "source": [
    "Now, we will define a couple of functions such that we can use them over and over again. The first function will be to get the coordinates of a certain location"
   ]
  },
  {
   "cell_type": "code",
   "execution_count": 191,
   "metadata": {},
   "outputs": [
    {
     "name": "stdout",
     "output_type": "stream",
     "text": [
      "The geograpical coordinate of Princess Anne, MD are 38.2028428, -75.6920008.\n"
     ]
    },
    {
     "data": {
      "text/plain": [
       "(38.2028428, -75.6920008)"
      ]
     },
     "execution_count": 191,
     "metadata": {},
     "output_type": "execute_result"
    }
   ],
   "source": [
    "address = 'Princess Anne, MD'\n",
    "\n",
    "def GetCoordinates(Address):\n",
    "    geolocator = Nominatim(user_agent=\"ny_explorer\")\n",
    "    location = geolocator.geocode(address)\n",
    "    latitude = location.latitude\n",
    "    longitude = location.longitude\n",
    "    print('The geograpical coordinate of {} are {}, {}.'.format(address,latitude, longitude))\n",
    "    return(latitude,longitude)\n",
    "\n",
    "GetCoordinates(address)"
   ]
  },
  {
   "cell_type": "markdown",
   "metadata": {},
   "source": [
    "The next function is to find all categories of the venues within a certain radius of this city. For now this radius is set at 10 km, but can be changed easily. Next to that, since we want to find all venues of these cities, we have chosen a limit of 150. All cities with the name \"Anne\" have less than 150 venues, so we can find them easily."
   ]
  },
  {
   "cell_type": "code",
   "execution_count": 192,
   "metadata": {},
   "outputs": [],
   "source": [
    "radius = 10000\n",
    "LIMIT = 150\n",
    "\n",
    "def FindAllVenues(latitude,longitude,radius,limit):\n",
    "    #define an empty dataframe\n",
    "    Venues_DF = pd.DataFrame(columns=[\"id\",\"Category\",\"Location\"])\n",
    "    \n",
    "    # create the API request URL\n",
    "    url = 'https://api.foursquare.com/v2/venues/explore?&client_id={}&client_secret={}&v={}&ll={},{}&radius={}&limit={}'.format(\n",
    "            CLIENT_ID, \n",
    "            CLIENT_SECRET, \n",
    "            VERSION, \n",
    "            latitude, \n",
    "            longitude, \n",
    "            radius, \n",
    "            LIMIT)\n",
    "\n",
    "    # make the GET request\n",
    "    results = requests.get(url).json()[\"response\"]['groups'][0]['items']\n",
    "    results\n",
    "\n",
    "    #make a dataframe from the results (JSON)\n",
    "    DF_Venues = pd.DataFrame.from_dict(results)\n",
    "\n",
    "    #extract the venue types from the venues\n",
    "    for i in range(0,DF_Venues.shape[0]):\n",
    "        #print(DF_Venues.iloc[i,1]['location']['formattedAddress'])\n",
    "        Series_Object1 = pd.Series((DF_Venues.iloc[i,1]['categories'][0]['id'],DF_Venues.iloc[i,1]['categories'][0]['name'],DF_Venues.iloc[i,1]['location']['formattedAddress']),index=[\"id\",\"Category\",\"Location\"])\n",
    "        Venues_DF = Venues_DF.append(Series_Object1,ignore_index=True)\n",
    "\n",
    "    return(Venues_DF)\n"
   ]
  },
  {
   "cell_type": "markdown",
   "metadata": {},
   "source": [
    "## Get the end result - Cities with Venues"
   ]
  },
  {
   "cell_type": "markdown",
   "metadata": {},
   "source": [
    "Now, we will use the functions that we have determined above to loop over all venues and all cities (that we have found) to find all the venues that we are looking for. "
   ]
  },
  {
   "cell_type": "code",
   "execution_count": 193,
   "metadata": {},
   "outputs": [
    {
     "name": "stdout",
     "output_type": "stream",
     "text": [
      "The geograpical coordinate of Princess Anne,MD are 38.2028428, -75.6920008.\n",
      "The geograpical coordinate of Saint Anne,IL are 41.021996, -87.72044267569515.\n",
      "The geograpical coordinate of Queen Anne,MD are 38.919559, -75.9528827.\n",
      "The geograpical coordinate of Annemanie,AL are 32.0518121, -87.0391522.\n",
      "                         id     category  \\\n",
      "0  4bf58dd8d48988d172941735  Post Office   \n",
      "1  4bf58dd8d48988d172941735  Post Office   \n",
      "2  4bf58dd8d48988d172941735  Post Office   \n",
      "3  4bf58dd8d48988d172941735  Post Office   \n",
      "4  4bf58dd8d48988d172941735  Post Office   \n",
      "\n",
      "                                             address  \n",
      "0  [31676 Eden Allen Rd (Rt 13), Eden, MD 21822, ...  \n",
      "1  [702 Saint Charles St, Beaverville, IL 60912, ...  \n",
      "2  [22043 Main St, Hillsboro, MD 21641, United St...  \n",
      "3  [2560 County Road 4, Minter, AL 36761, United ...  \n",
      "4  [8545 County Road 59, Furman, AL 36741, United...  \n"
     ]
    }
   ],
   "source": [
    "#Create a new dataframe\n",
    "DF_SportVenues = pd.DataFrame(columns=[\"id\",\"category\",\"address\"])\n",
    "\n",
    "#loop over the enitre dataframe to find everything\n",
    "for j in range(0,DF_Anne.shape[0]):\n",
    "    #define the address of the city, such that we can get the venues out of FourSqyare\n",
    "    address = str(DF_Anne[\"City\"][j] + \",\" + DF_Anne[\"State\"][j])\n",
    "    latitude,longitude = GetCoordinates(address)\n",
    "    DF_Venues = FindAllVenues(latitude,longitude,radius, limit)\n",
    "    #loop over all venues that we have found to find the ones with the correct category\n",
    "    for i in range(0,DF_Venues.shape[0]):\n",
    "        if DF_Venues[\"Category\"][i].find(String_Venue) != -1:\n",
    "            SeriesObject3 = pd.Series((DF_Venues[\"id\"][i],DF_Venues[\"Category\"][i],DF_Venues[\"Location\"][i]),index=[\"id\",\"category\",\"address\"])\n",
    "            DF_SportVenues = DF_SportVenues.append(SeriesObject3,ignore_index=True)\n",
    "\n",
    "print(DF_SportVenues)"
   ]
  },
  {
   "cell_type": "markdown",
   "metadata": {},
   "source": [
    "## End result"
   ]
  },
  {
   "cell_type": "markdown",
   "metadata": {},
   "source": [
    "The end result is an dataframe with the category and the location that we need to visit. In case we would like to know more about the venues, we can use the ID."
   ]
  },
  {
   "cell_type": "code",
   "execution_count": 194,
   "metadata": {},
   "outputs": [
    {
     "data": {
      "text/html": [
       "<div>\n",
       "<style scoped>\n",
       "    .dataframe tbody tr th:only-of-type {\n",
       "        vertical-align: middle;\n",
       "    }\n",
       "\n",
       "    .dataframe tbody tr th {\n",
       "        vertical-align: top;\n",
       "    }\n",
       "\n",
       "    .dataframe thead th {\n",
       "        text-align: right;\n",
       "    }\n",
       "</style>\n",
       "<table border=\"1\" class=\"dataframe\">\n",
       "  <thead>\n",
       "    <tr style=\"text-align: right;\">\n",
       "      <th></th>\n",
       "      <th>id</th>\n",
       "      <th>category</th>\n",
       "      <th>address</th>\n",
       "    </tr>\n",
       "  </thead>\n",
       "  <tbody>\n",
       "    <tr>\n",
       "      <th>0</th>\n",
       "      <td>4bf58dd8d48988d172941735</td>\n",
       "      <td>Post Office</td>\n",
       "      <td>[31676 Eden Allen Rd (Rt 13), Eden, MD 21822, ...</td>\n",
       "    </tr>\n",
       "    <tr>\n",
       "      <th>1</th>\n",
       "      <td>4bf58dd8d48988d172941735</td>\n",
       "      <td>Post Office</td>\n",
       "      <td>[702 Saint Charles St, Beaverville, IL 60912, ...</td>\n",
       "    </tr>\n",
       "    <tr>\n",
       "      <th>2</th>\n",
       "      <td>4bf58dd8d48988d172941735</td>\n",
       "      <td>Post Office</td>\n",
       "      <td>[22043 Main St, Hillsboro, MD 21641, United St...</td>\n",
       "    </tr>\n",
       "    <tr>\n",
       "      <th>3</th>\n",
       "      <td>4bf58dd8d48988d172941735</td>\n",
       "      <td>Post Office</td>\n",
       "      <td>[2560 County Road 4, Minter, AL 36761, United ...</td>\n",
       "    </tr>\n",
       "    <tr>\n",
       "      <th>4</th>\n",
       "      <td>4bf58dd8d48988d172941735</td>\n",
       "      <td>Post Office</td>\n",
       "      <td>[8545 County Road 59, Furman, AL 36741, United...</td>\n",
       "    </tr>\n",
       "  </tbody>\n",
       "</table>\n",
       "</div>"
      ],
      "text/plain": [
       "                         id     category  \\\n",
       "0  4bf58dd8d48988d172941735  Post Office   \n",
       "1  4bf58dd8d48988d172941735  Post Office   \n",
       "2  4bf58dd8d48988d172941735  Post Office   \n",
       "3  4bf58dd8d48988d172941735  Post Office   \n",
       "4  4bf58dd8d48988d172941735  Post Office   \n",
       "\n",
       "                                             address  \n",
       "0  [31676 Eden Allen Rd (Rt 13), Eden, MD 21822, ...  \n",
       "1  [702 Saint Charles St, Beaverville, IL 60912, ...  \n",
       "2  [22043 Main St, Hillsboro, MD 21641, United St...  \n",
       "3  [2560 County Road 4, Minter, AL 36761, United ...  \n",
       "4  [8545 County Road 59, Furman, AL 36741, United...  "
      ]
     },
     "execution_count": 194,
     "metadata": {},
     "output_type": "execute_result"
    }
   ],
   "source": [
    "DF_SportVenues"
   ]
  },
  {
   "cell_type": "code",
   "execution_count": null,
   "metadata": {},
   "outputs": [],
   "source": []
  },
  {
   "cell_type": "code",
   "execution_count": null,
   "metadata": {},
   "outputs": [],
   "source": []
  }
 ],
 "metadata": {
  "kernelspec": {
   "display_name": "Python 3",
   "language": "python",
   "name": "python3"
  },
  "language_info": {
   "codemirror_mode": {
    "name": "ipython",
    "version": 3
   },
   "file_extension": ".py",
   "mimetype": "text/x-python",
   "name": "python",
   "nbconvert_exporter": "python",
   "pygments_lexer": "ipython3",
   "version": "3.7.3"
  }
 },
 "nbformat": 4,
 "nbformat_minor": 2
}
